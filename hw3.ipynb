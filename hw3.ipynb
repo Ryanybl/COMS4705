{
 "cells": [
  {
   "cell_type": "code",
   "execution_count": 1,
   "metadata": {},
   "outputs": [],
   "source": [
    "#!pip install transformers\n",
    "import torch\n",
    "from transformers import BertTokenizer,BertModel, BertConfig\n",
    "from sklearn.feature_extraction.text import CountVectorizer\n",
    "import numpy as np \n",
    "import scipy as sp \n",
    "from sklearn.decomposition import TruncatedSVD\n",
    "from sklearn.feature_selection import SelectKBest\n",
    "from scipy.sparse import lil_matrix\n",
    "from scipy.sparse import coo_matrix\n"
   ]
  },
  {
   "cell_type": "code",
   "execution_count": 2,
   "metadata": {},
   "outputs": [],
   "source": [
    "from evaluate import *\n",
    "from process import *"
   ]
  },
  {
   "cell_type": "code",
   "execution_count": 3,
   "metadata": {
    "tags": []
   },
   "outputs": [],
   "source": [
    "f = open(\"data/brown.txt\")\n",
    "vectorizer = CountVectorizer()\n",
    "vectorizer.fit(f)\n",
    "vocab = vectorizer.vocabulary_\n",
    "tokenizer = vectorizer.build_tokenizer()"
   ]
  },
  {
   "cell_type": "code",
   "execution_count": 112,
   "metadata": {
    "tags": []
   },
   "outputs": [],
   "source": [
    "def file_to_words(filename):\n",
    "    with open (filename, \"r\") as myfile:\n",
    "        lines=myfile.readlines()\n",
    "        return lines\n",
    "train_lines = file_to_words(\"data/brown.txt\")"
   ]
  },
  {
   "cell_type": "code",
   "execution_count": 115,
   "metadata": {},
   "outputs": [],
   "source": [
    "def cooc_matrix(train_lines, context_window, vocab, tokenizer):\n",
    "    if len(train_lines) == 0:\n",
    "        return []\n",
    "    r = len(vocab.keys())\n",
    "    D = lil_matrix((r,r))\n",
    "    for i in range(len(train_lines)):\n",
    "        line = tokenizer(train_lines[i])\n",
    "        print(f\"Generating cooc_matrix on line {i+1}: {round(i/len(train_lines)*100,1)} percent complete\", end=\"\\r\")\n",
    "        for j in range(len(line)):\n",
    "            word = line[j].lower()\n",
    "            word_index = vocab[word]\n",
    "            for k in range(1,context_window+1):\n",
    "                if j+k < len(line):\n",
    "                    context_index = vocab[line[j+k].lower()]\n",
    "                    if not context_index in D.rows[word_index]:\n",
    "                        D.rows[word_index].append(context_index)\n",
    "                        D.data[word_index].append(1)\n",
    "                    else:\n",
    "                        D.data[word_index][D.rows[word_index].index(context_index)] += 1\n",
    "                if j-k >= 0:\n",
    "                    context_index = vocab[line[j-k].lower()]\n",
    "                    if not context_index in D.rows[word_index]:\n",
    "                        D.rows[word_index].append(context_index)\n",
    "                        D.data[word_index].append(1)\n",
    "                    else:\n",
    "                        D.data[word_index][D.rows[word_index].index(context_index)] += 1\n",
    "    return D"
   ]
  },
  {
   "cell_type": "code",
   "execution_count": 116,
   "metadata": {
    "tags": []
   },
   "outputs": [
    {
     "output_type": "stream",
     "name": "stdout",
     "text": []
    }
   ],
   "source": [
    "D = cooc_matrix(train_lines,2,vocab, tokenizer)"
   ]
  },
  {
   "cell_type": "code",
   "execution_count": 117,
   "metadata": {},
   "outputs": [],
   "source": [
    "D_sum = D.sum(1).A\n",
    "nD = D.sum()"
   ]
  },
  {
   "cell_type": "code",
   "execution_count": 118,
   "metadata": {},
   "outputs": [],
   "source": [
    "def D_to_M(D,D_sum,nD):\n",
    "    n = len(D_sum)\n",
    "    print(\"creating PMI as lil_matrix\")\n",
    "    M = D.copy()\n",
    "    rows = M.rows\n",
    "    data = M.data\n",
    "    for i in range(len(rows)):\n",
    "        print(f\"Generating PMI: {round(i/len(rows)*100,1)} percent complete\", end=\"\\r\")\n",
    "        row = rows[i]\n",
    "        for j in range(len(row)):\n",
    "            # row[j] = index in the vocabulary dictionary for c, i = index for w\n",
    "            assert data[i][j] != 0\n",
    "            data[i][j] = np.log(data[i][j] * nD / D_sum[i][0] / D_sum[row[j]][0])\n",
    "            assert data[i][j] != 0\n",
    "    print(\"PMI created\")\n",
    "    return M\n",
    "    "
   ]
  },
  {
   "cell_type": "code",
   "execution_count": 119,
   "metadata": {
    "tags": []
   },
   "outputs": [
    {
     "output_type": "stream",
     "name": "stdout",
     "text": [
      "creating PMI as lil_matrix\n",
      "PMI created\n"
     ]
    }
   ],
   "source": [
    "M = D_to_M(D,D_sum,nD)"
   ]
  },
  {
   "cell_type": "code",
   "execution_count": 120,
   "metadata": {},
   "outputs": [],
   "source": [
    "def M_to_svd(M,dimension):\n",
    "    svd = TruncatedSVD(n_components=dimension)\n",
    "    U = svd.fit_transform(M)\n",
    "    V = svd.components_\n",
    "    S = svd.singular_values_ \n",
    "    return U,S,V"
   ]
  },
  {
   "cell_type": "code",
   "execution_count": 140,
   "metadata": {},
   "outputs": [
    {
     "output_type": "stream",
     "name": "stdout",
     "text": [
      "(42396, 50) (50, 50) (50, 42396)\n"
     ]
    }
   ],
   "source": [
    "u,s_diag,vt = M_to_svd(M,50)\n",
    "s = np.zeros((len(s_diag),len(s_diag)))\n",
    "np.fill_diagonal(s,s_diag)\n",
    "print(u.shape,s.shape,vt.shape)"
   ]
  },
  {
   "cell_type": "code",
   "execution_count": 142,
   "metadata": {},
   "outputs": [
    {
     "output_type": "stream",
     "name": "stdout",
     "text": [
      "(42396, 50)\n"
     ]
    }
   ],
   "source": [
    "W = np.matmul(u,np.sqrt(s))\n",
    "print(W.shape)"
   ]
  },
  {
   "cell_type": "code",
   "execution_count": 143,
   "metadata": {},
   "outputs": [],
   "source": [
    "embedding = {}\n",
    "for word in vocab.keys():\n",
    "    embedding[word] = W[vocab[word]]"
   ]
  },
  {
   "cell_type": "code",
   "execution_count": 146,
   "metadata": {},
   "outputs": [
    {
     "output_type": "stream",
     "name": "stdout",
     "text": [
      "svd_50_2.txt\n"
     ]
    }
   ],
   "source": [
    "f = open(\"svd_50_2.txt\",\"w\", encoding='utf8')\n",
    "for key, value in embedding.items():\n",
    "    values = \"\"\n",
    "    for i in range(len(value)):\n",
    "        values += f\"{value[i]} \"\n",
    "    values = values.strip()\n",
    "    f.write(\"{0} {1}\\n\".format(str(key), values))\n",
    "print(f.name)\n",
    "f.close()"
   ]
  },
  {
   "cell_type": "code",
   "execution_count": 149,
   "metadata": {},
   "outputs": [
    {
     "output_type": "execute_result",
     "data": {
      "text/plain": [
       "['Perelman']"
      ]
     },
     "metadata": {},
     "execution_count": 149
    }
   ],
   "source": [
    "tokenizer(\"S. J. Perelman\")"
   ]
  },
  {
   "cell_type": "code",
   "execution_count": null,
   "metadata": {},
   "outputs": [],
   "source": []
  }
 ],
 "metadata": {
  "kernelspec": {
   "display_name": "Python 3",
   "language": "python",
   "name": "python3"
  },
  "language_info": {
   "codemirror_mode": {
    "name": "ipython",
    "version": 3
   },
   "file_extension": ".py",
   "mimetype": "text/x-python",
   "name": "python",
   "nbconvert_exporter": "python",
   "pygments_lexer": "ipython3",
   "version": "3.8.5-final"
  }
 },
 "nbformat": 4,
 "nbformat_minor": 2
}