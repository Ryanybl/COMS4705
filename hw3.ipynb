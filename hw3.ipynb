{
 "cells": [
  {
   "cell_type": "code",
   "execution_count": 12,
   "metadata": {},
   "outputs": [],
   "source": [
    "#!pip install transformers\n",
    "from sklearn.feature_extraction.text import CountVectorizer\n",
    "import numpy as np \n",
    "import scipy as sp \n",
    "from sklearn.decomposition import TruncatedSVD\n",
    "from sklearn.feature_selection import SelectKBest\n",
    "from scipy.sparse import lil_matrix\n",
    "import pandas as pd "
   ]
  },
  {
   "cell_type": "code",
   "execution_count": 33,
   "metadata": {},
   "outputs": [],
   "source": [
    "from evaluate import *\n",
    "from process import *"
   ]
  },
  {
   "cell_type": "code",
   "execution_count": 14,
   "metadata": {
    "tags": []
   },
   "outputs": [],
   "source": [
    "# f = open(\"data/brown.txt\")\n",
    "# vectorizer = CountVectorizer()\n",
    "# vectorizer.fit(f)\n",
    "# vocab = vectorizer.vocabulary_\n",
    "# tokenizer = vectorizer.build_tokenizer()"
   ]
  },
  {
   "cell_type": "code",
   "execution_count": 15,
   "metadata": {
    "tags": []
   },
   "outputs": [],
   "source": [
    "def file_to_words(filename):\n",
    "    with open (filename, \"r\") as myfile:\n",
    "        lines=myfile.readlines()\n",
    "        return lines\n",
    "# train_lines = file_to_words(\"data/brown.txt\")"
   ]
  },
  {
   "cell_type": "code",
   "execution_count": 16,
   "metadata": {},
   "outputs": [],
   "source": [
    "def cooc_matrix(train_lines, context_window, vocab, tokenizer):\n",
    "    if len(train_lines) == 0:\n",
    "        return []\n",
    "    r = len(vocab.keys())\n",
    "    D = lil_matrix((r,r))\n",
    "    for i in range(len(train_lines)):\n",
    "        line = tokenizer(train_lines[i])\n",
    "        print(f\"Generating cooc_matrix on line {i+1}: {round(i/len(train_lines)*100,1)} percent complete\", end=\"\\r\")\n",
    "        for j in range(len(line)):\n",
    "            word = line[j].lower()\n",
    "            word_index = vocab[word]\n",
    "            for k in range(1,context_window+1):\n",
    "                if j+k < len(line):\n",
    "                    context_index = vocab[line[j+k].lower()]\n",
    "                    if not context_index in D.rows[word_index]:\n",
    "                        D.rows[word_index].append(context_index)\n",
    "                        D.data[word_index].append(1)\n",
    "                    else:\n",
    "                        D.data[word_index][D.rows[word_index].index(context_index)] += 1\n",
    "                if j-k >= 0:\n",
    "                    context_index = vocab[line[j-k].lower()]\n",
    "                    if not context_index in D.rows[word_index]:\n",
    "                        D.rows[word_index].append(context_index)\n",
    "                        D.data[word_index].append(1)\n",
    "                    else:\n",
    "                        D.data[word_index][D.rows[word_index].index(context_index)] += 1\n",
    "    return D"
   ]
  },
  {
   "cell_type": "code",
   "execution_count": 17,
   "metadata": {
    "tags": []
   },
   "outputs": [],
   "source": [
    "# D = cooc_matrix(train_lines,2,vocab, tokenizer)"
   ]
  },
  {
   "cell_type": "code",
   "execution_count": 18,
   "metadata": {},
   "outputs": [],
   "source": [
    "# D_sum = D.sum(1).A\n",
    "# nD = D.sum()"
   ]
  },
  {
   "cell_type": "code",
   "execution_count": 19,
   "metadata": {},
   "outputs": [],
   "source": [
    "def D_to_M(D,D_sum,nD):\n",
    "    n = len(D_sum)\n",
    "    print(\"creating PMI as lil_matrix\")\n",
    "    M = D.copy()\n",
    "    rows = M.rows\n",
    "    data = M.data\n",
    "    for i in range(len(rows)):\n",
    "        print(f\"Generating PMI: {round(i/len(rows)*100,1)} percent complete\", end=\"\\r\")\n",
    "        row = rows[i]\n",
    "        for j in range(len(row)):\n",
    "            # row[j] = index in the vocabulary dictionary for c, i = index for w\n",
    "            assert data[i][j] != 0\n",
    "            data[i][j] = np.log(data[i][j] * nD / D_sum[i][0] / D_sum[row[j]][0])\n",
    "            assert data[i][j] != 0\n",
    "    print(\"PMI created\")\n",
    "    return M\n",
    "    "
   ]
  },
  {
   "cell_type": "code",
   "execution_count": 20,
   "metadata": {
    "tags": []
   },
   "outputs": [],
   "source": [
    "# M = D_to_M(D,D_sum,nD)"
   ]
  },
  {
   "cell_type": "code",
   "execution_count": 21,
   "metadata": {},
   "outputs": [],
   "source": [
    "def M_to_svd(M,dimension):\n",
    "    svd = TruncatedSVD(n_components=dimension)\n",
    "    U = svd.fit_transform(M)\n",
    "    V = svd.components_\n",
    "    S = svd.singular_values_ \n",
    "    return U,S,V"
   ]
  },
  {
   "cell_type": "code",
   "execution_count": 22,
   "metadata": {},
   "outputs": [],
   "source": [
    "# u,s_diag,vt = M_to_svd(M,50)\n",
    "# s = np.zeros((len(s_diag),len(s_diag)))\n",
    "# np.fill_diagonal(s,s_diag)\n",
    "# print(u.shape,s.shape,vt.shape)"
   ]
  },
  {
   "cell_type": "code",
   "execution_count": 23,
   "metadata": {},
   "outputs": [],
   "source": [
    "# W = np.matmul(u,np.sqrt(s))\n",
    "# print(W.shape)"
   ]
  },
  {
   "cell_type": "code",
   "execution_count": 143,
   "metadata": {},
   "outputs": [],
   "source": []
  },
  {
   "cell_type": "code",
   "execution_count": 24,
   "metadata": {},
   "outputs": [],
   "source": [
    "def write_results(vocab,W,filename):\n",
    "    embedding = {}\n",
    "    for word in vocab.keys():\n",
    "        embedding[word] = W[vocab[word]]\n",
    "    f = open(filename,\"w\", encoding='utf8')\n",
    "    for key, value in embedding.items():\n",
    "        if not np.any(value):\n",
    "            continue\n",
    "        values = \"\"\n",
    "        for i in range(len(value)):\n",
    "            values += f\"{value[i]} \"\n",
    "        values = values.strip()\n",
    "        f.write(\"{0} {1}\\n\".format(str(key), values))\n",
    "    print(f.name)\n",
    "    f.close()"
   ]
  },
  {
   "cell_type": "code",
   "execution_count": 25,
   "metadata": {},
   "outputs": [],
   "source": [
    "# tokenizer(\"S. J. Perelman\")"
   ]
  },
  {
   "cell_type": "code",
   "execution_count": 26,
   "metadata": {},
   "outputs": [],
   "source": [
    "train_path = \"data/brown.txt\"\n",
    "def generate_all_embeddings(train_path):\n",
    "    f = open(train_path)\n",
    "    vectorizer = CountVectorizer()\n",
    "    vectorizer.fit(f)\n",
    "    vocab = vectorizer.vocabulary_\n",
    "    tokenizer = vectorizer.build_tokenizer()\n",
    "    train_lines = file_to_words(train_path)\n",
    "    for context_window in [2,5,10]:\n",
    "        D = cooc_matrix(train_lines,context_window,vocab, tokenizer)\n",
    "        D_sum = D.sum(1).A\n",
    "        nD = D.sum()\n",
    "        M = D_to_M(D,D_sum,nD)\n",
    "\n",
    "        for dimension in [50,100,300]:\n",
    "            u,s_diag,vt = M_to_svd(M,dimension)\n",
    "            s = np.zeros((len(s_diag),len(s_diag)))\n",
    "            np.fill_diagonal(s,s_diag)\n",
    "            W = np.matmul(u,np.sqrt(s))\n",
    "            filename = f\"svd_{dimension}_{context_window}.txt\"\n",
    "            write_results(vocab,W,filename)"
   ]
  },
  {
   "cell_type": "code",
   "execution_count": 27,
   "metadata": {},
   "outputs": [
    {
     "output_type": "stream",
     "name": "stdout",
     "text": [
      "creating PMI as lil_matrix\n",
      "PMI created\n",
      "svd_50_2.txt\n",
      "svd_100_2.txt\n",
      "svd_300_2.txt\n",
      "creating PMI as lil_matrix\n",
      "PMI created\n",
      "svd_50_5.txt\n",
      "svd_100_5.txt\n",
      "svd_300_5.txt\n",
      "creating PMI as lil_matrix\n",
      "PMI created\n",
      "svd_50_10.txt\n",
      "svd_100_10.txt\n",
      "svd_300_10.txt\n"
     ]
    }
   ],
   "source": [
    "generate_all_embeddings(train_path)"
   ]
  },
  {
   "cell_type": "code",
   "execution_count": 28,
   "metadata": {},
   "outputs": [],
   "source": [
    "path = \"svd_50_2.txt\"\n",
    "def evaluate(path):\n",
    "    print('[evaluate] Loading model...')\n",
    "    model = load_model(path)\n",
    "\n",
    "    print('[evaluate] Collecting matrix...')\n",
    "    matrix, vocab, indices = collect(model)\n",
    "\n",
    "    print('[evaluate] WordSim353 correlation:')\n",
    "    ws = eval_wordsim(model)\n",
    "    print(ws)\n",
    "\n",
    "    print('[evaluate] BATS accuracies:')\n",
    "    bats = eval_bats(model, matrix, vocab, indices)\n",
    "    print(bats)\n",
    "\n",
    "    print('[evaluate] MSR accuracy:')\n",
    "    msr = eval_msr(model)\n",
    "    print(msr)\n",
    "    return ws,bats,msr"
   ]
  },
  {
   "cell_type": "code",
   "execution_count": 36,
   "metadata": {},
   "outputs": [],
   "source": [
    "table = pd.DataFrame()"
   ]
  },
  {
   "cell_type": "code",
   "execution_count": 39,
   "metadata": {},
   "outputs": [
    {
     "output_type": "stream",
     "name": "stdout",
     "text": [
      "[evaluate] Loading model...\n",
      "[evaluate] Collecting matrix...\n",
      "[evaluate] WordSim353 correlation:\n",
      "SpearmanrResult(correlation=0.07384088022317557, pvalue=0.18490281768438876)\n",
      "[evaluate] BATS accuracies:\n",
      "{'inflectional_morphology': 0.028530612244897963, 'I01 [noun - plural_reg]': 0.10204081632653061, 'I02 [noun - plural_irreg]': 0.0, 'I03 [adj - comparative]': 0.0, 'I04 [adj - superlative]': 0.0, 'I05 [verb_inf - 3pSg]': 0.02, 'I06 [verb_inf - Ving]': 0.0, 'I07 [verb_inf - Ved]': 0.10204081632653061, 'I08 [verb_Ving - 3pSg]': 0.0, 'I09 [verb_Ving - Ved]': 0.0, 'I10 [verb_3pSg - Ved]': 0.061224489795918366, 'derivational_morphology': 0.0, 'D01 [noun+less_reg]': 0.0, 'D02 [un+adj_reg]': 0.0, 'D03 [adj+ly_reg]': 0.0, 'D04 [over+adj_reg]': 0.0, 'D05 [adj+ness_reg]': 0.0, 'D06 [re+verb_reg]': 0.0, 'D07 [verb+able_reg]': 0.0, 'D08 [verb+er_irreg]': 0.0, 'D09 [verb+tion_irreg]': 0.0, 'D10 [verb+ment_irreg]': 0.0, 'encyclopedic_semantics': 0.049186046511627904, 'E01 [country - capital]': 0.0, 'E02 [country - language]': 0.0, 'E03 [UK_city - county]': 0.0, 'E04 [name - nationality]': 0.05, 'E05 [name - occupation]': 0.0, 'E06 [animal - young]': 0.0, 'E07 [animal - sound]': 0.0, 'E08 [animal - shelter]': 0.0, 'E09 [things - color]': 0.4418604651162791, 'E10 [male - female]': 0.0, 'lexicographic_semantics': 0.03838719579818651, 'L01 [hypernyms - animals]': 0.029411764705882353, 'L02 [hypernyms - misc]': 0.02702702702702703, 'L03 [hyponyms - misc]': 0.0, 'L04 [meronyms - substance]': 0.020833333333333332, 'L05 [meronyms - member]': 0.0, 'L06 [meronyms - part]': 0.05263157894736842, 'L07 [synonyms - intensity]': 0.0, 'L08 [synonyms - exact]': 0.02040816326530612, 'L09 [antonyms - gradable]': 0.12244897959183673, 'L10 [antonyms - binary]': 0.1111111111111111, 'total': 0.029025963638678095}\n",
      "[evaluate] MSR accuracy:\n"
     ]
    },
    {
     "output_type": "error",
     "ename": "UnicodeDecodeError",
     "evalue": "'gbk' codec can't decode byte 0x9d in position 576: illegal multibyte sequence",
     "traceback": [
      "\u001b[1;31m---------------------------------------------------------------------------\u001b[0m",
      "\u001b[1;31mUnicodeDecodeError\u001b[0m                        Traceback (most recent call last)",
      "\u001b[1;32m<ipython-input-39-474b1584345a>\u001b[0m in \u001b[0;36m<module>\u001b[1;34m\u001b[0m\n\u001b[0;32m      2\u001b[0m     \u001b[1;32mfor\u001b[0m \u001b[0mdim\u001b[0m \u001b[1;32min\u001b[0m \u001b[1;33m[\u001b[0m\u001b[1;36m50\u001b[0m\u001b[1;33m,\u001b[0m\u001b[1;36m100\u001b[0m\u001b[1;33m,\u001b[0m\u001b[1;36m300\u001b[0m\u001b[1;33m]\u001b[0m\u001b[1;33m:\u001b[0m\u001b[1;33m\u001b[0m\u001b[1;33m\u001b[0m\u001b[0m\n\u001b[0;32m      3\u001b[0m         \u001b[0mpath\u001b[0m \u001b[1;33m=\u001b[0m \u001b[1;34mf\"svd_{dim}_{win}.txt\"\u001b[0m\u001b[1;33m\u001b[0m\u001b[1;33m\u001b[0m\u001b[0m\n\u001b[1;32m----> 4\u001b[1;33m         \u001b[0mws\u001b[0m\u001b[1;33m,\u001b[0m\u001b[0mbats\u001b[0m\u001b[1;33m,\u001b[0m\u001b[0mmsr\u001b[0m \u001b[1;33m=\u001b[0m \u001b[0mevaluate\u001b[0m\u001b[1;33m(\u001b[0m\u001b[0mpath\u001b[0m\u001b[1;33m)\u001b[0m\u001b[1;33m\u001b[0m\u001b[1;33m\u001b[0m\u001b[0m\n\u001b[0m\u001b[0;32m      5\u001b[0m         \u001b[0mrow\u001b[0m \u001b[1;33m=\u001b[0m \u001b[1;33m{\u001b[0m\u001b[1;34m\"Algorithm\"\u001b[0m\u001b[1;33m:\u001b[0m\u001b[1;34m\"SVD\"\u001b[0m\u001b[1;33m,\u001b[0m \u001b[1;34m\"Win.\"\u001b[0m\u001b[1;33m:\u001b[0m\u001b[0mwin\u001b[0m\u001b[1;33m,\u001b[0m \u001b[1;34m\"Dim.\"\u001b[0m\u001b[1;33m:\u001b[0m\u001b[0mdim\u001b[0m\u001b[1;33m,\u001b[0m \u001b[1;34m\"N. s.\"\u001b[0m\u001b[1;33m:\u001b[0m\u001b[1;34m\"-\"\u001b[0m\u001b[1;33m,\u001b[0m \u001b[1;34m\"WordSim\"\u001b[0m\u001b[1;33m:\u001b[0m\u001b[0mws\u001b[0m\u001b[1;33m[\u001b[0m\u001b[1;36m0\u001b[0m\u001b[1;33m]\u001b[0m\u001b[1;33m*\u001b[0m\u001b[1;36m100\u001b[0m\u001b[1;33m,\u001b[0m \u001b[1;34m\"BATS Male-Female\"\u001b[0m\u001b[1;33m:\u001b[0m\u001b[0mnp\u001b[0m\u001b[1;33m.\u001b[0m\u001b[0mround\u001b[0m\u001b[1;33m(\u001b[0m\u001b[0mbats\u001b[0m\u001b[1;33m[\u001b[0m\u001b[1;34m\"E10 [male - female]\"\u001b[0m\u001b[1;33m]\u001b[0m\u001b[1;33m,\u001b[0m\u001b[1;36m2\u001b[0m\u001b[1;33m)\u001b[0m\u001b[1;33m,\u001b[0m \u001b[1;34m\"BATS hypernym - misc\"\u001b[0m\u001b[1;33m:\u001b[0m \u001b[0mnp\u001b[0m\u001b[1;33m.\u001b[0m\u001b[0mround\u001b[0m\u001b[1;33m(\u001b[0m\u001b[0mbats\u001b[0m\u001b[1;33m[\u001b[0m\u001b[1;34m\"L02 [hypernyms - misc]\"\u001b[0m\u001b[1;33m]\u001b[0m\u001b[1;33m,\u001b[0m\u001b[1;36m2\u001b[0m\u001b[1;33m)\u001b[0m \u001b[1;33m,\u001b[0m \u001b[1;34m\"BATS total\"\u001b[0m\u001b[1;33m:\u001b[0m\u001b[0mnp\u001b[0m\u001b[1;33m.\u001b[0m\u001b[0mround\u001b[0m\u001b[1;33m(\u001b[0m\u001b[0mbats\u001b[0m\u001b[1;33m[\u001b[0m\u001b[1;34m\"total\"\u001b[0m\u001b[1;33m]\u001b[0m\u001b[1;33m,\u001b[0m\u001b[1;36m2\u001b[0m\u001b[1;33m)\u001b[0m\u001b[1;33m,\u001b[0m \u001b[1;34m\"MSR\"\u001b[0m\u001b[1;33m:\u001b[0m\u001b[0mmsr\u001b[0m\u001b[1;33m}\u001b[0m\u001b[1;33m\u001b[0m\u001b[1;33m\u001b[0m\u001b[0m\n\u001b[0;32m      6\u001b[0m         \u001b[0mtable\u001b[0m \u001b[1;33m=\u001b[0m \u001b[0mtable\u001b[0m\u001b[1;33m.\u001b[0m\u001b[0mappend\u001b[0m\u001b[1;33m(\u001b[0m\u001b[0mpd\u001b[0m\u001b[1;33m.\u001b[0m\u001b[0mDataFrame\u001b[0m\u001b[1;33m(\u001b[0m\u001b[0mrow\u001b[0m\u001b[1;33m,\u001b[0m\u001b[0mindex\u001b[0m\u001b[1;33m=\u001b[0m\u001b[1;33m[\u001b[0m\u001b[1;36m0\u001b[0m\u001b[1;33m]\u001b[0m\u001b[1;33m)\u001b[0m\u001b[1;33m,\u001b[0m \u001b[0mignore_index\u001b[0m \u001b[1;33m=\u001b[0m \u001b[1;32mTrue\u001b[0m\u001b[1;33m)\u001b[0m\u001b[1;33m\u001b[0m\u001b[1;33m\u001b[0m\u001b[0m\n",
      "\u001b[1;32m<ipython-input-28-ab04b0667ba9>\u001b[0m in \u001b[0;36mevaluate\u001b[1;34m(path)\u001b[0m\n\u001b[0;32m     16\u001b[0m \u001b[1;33m\u001b[0m\u001b[0m\n\u001b[0;32m     17\u001b[0m     \u001b[0mprint\u001b[0m\u001b[1;33m(\u001b[0m\u001b[1;34m'[evaluate] MSR accuracy:'\u001b[0m\u001b[1;33m)\u001b[0m\u001b[1;33m\u001b[0m\u001b[1;33m\u001b[0m\u001b[0m\n\u001b[1;32m---> 18\u001b[1;33m     \u001b[0mmsr\u001b[0m \u001b[1;33m=\u001b[0m \u001b[0meval_msr\u001b[0m\u001b[1;33m(\u001b[0m\u001b[0mmodel\u001b[0m\u001b[1;33m)\u001b[0m\u001b[1;33m\u001b[0m\u001b[1;33m\u001b[0m\u001b[0m\n\u001b[0m\u001b[0;32m     19\u001b[0m     \u001b[0mprint\u001b[0m\u001b[1;33m(\u001b[0m\u001b[0mmsr\u001b[0m\u001b[1;33m)\u001b[0m\u001b[1;33m\u001b[0m\u001b[1;33m\u001b[0m\u001b[0m\n\u001b[0;32m     20\u001b[0m     \u001b[1;32mreturn\u001b[0m \u001b[0mws\u001b[0m\u001b[1;33m,\u001b[0m\u001b[0mbats\u001b[0m\u001b[1;33m,\u001b[0m\u001b[0mmsr\u001b[0m\u001b[1;33m\u001b[0m\u001b[1;33m\u001b[0m\u001b[0m\n",
      "\u001b[1;32mc:\\Users\\yunbo\\Desktop\\4705\\hw3\\COMS4705\\evaluate.py\u001b[0m in \u001b[0;36meval_msr\u001b[1;34m(model)\u001b[0m\n\u001b[0;32m    208\u001b[0m         \u001b[0mlogistic\u001b[0m \u001b[0mregression\u001b[0m \u001b[0mover\u001b[0m \u001b[0mcosine\u001b[0m \u001b[0msimilarity\u001b[0m \u001b[0mscores\u001b[0m\u001b[1;33m.\u001b[0m\u001b[1;33m\u001b[0m\u001b[1;33m\u001b[0m\u001b[0m\n\u001b[0;32m    209\u001b[0m     '''\n\u001b[1;32m--> 210\u001b[1;33m     \u001b[0mX_tr\u001b[0m\u001b[1;33m,\u001b[0m \u001b[0my_tr\u001b[0m \u001b[1;33m=\u001b[0m \u001b[0mload_msr\u001b[0m\u001b[1;33m(\u001b[0m\u001b[1;34m'data/msr/msr_paraphrase_train.txt'\u001b[0m\u001b[1;33m)\u001b[0m\u001b[1;33m\u001b[0m\u001b[1;33m\u001b[0m\u001b[0m\n\u001b[0m\u001b[0;32m    211\u001b[0m     \u001b[0mX_test\u001b[0m\u001b[1;33m,\u001b[0m \u001b[0my_test\u001b[0m \u001b[1;33m=\u001b[0m \u001b[0mload_msr\u001b[0m\u001b[1;33m(\u001b[0m\u001b[1;34m'data/msr/msr_paraphrase_test.txt'\u001b[0m\u001b[1;33m)\u001b[0m\u001b[1;33m\u001b[0m\u001b[1;33m\u001b[0m\u001b[0m\n\u001b[0;32m    212\u001b[0m \u001b[1;33m\u001b[0m\u001b[0m\n",
      "\u001b[1;32mc:\\Users\\yunbo\\Desktop\\4705\\hw3\\COMS4705\\process.py\u001b[0m in \u001b[0;36mload_msr\u001b[1;34m(f, limit)\u001b[0m\n\u001b[0;32m     17\u001b[0m         \u001b[0mLoads\u001b[0m \u001b[0mthe\u001b[0m \u001b[0mMSR\u001b[0m \u001b[0mparaphrase\u001b[0m \u001b[0mcorpus\u001b[0m\u001b[1;33m.\u001b[0m\u001b[1;33m\u001b[0m\u001b[1;33m\u001b[0m\u001b[0m\n\u001b[0;32m     18\u001b[0m     '''\n\u001b[1;32m---> 19\u001b[1;33m     \u001b[0mlines\u001b[0m \u001b[1;33m=\u001b[0m \u001b[1;33m[\u001b[0m\u001b[0mx\u001b[0m\u001b[1;33m.\u001b[0m\u001b[0mstrip\u001b[0m\u001b[1;33m(\u001b[0m\u001b[1;33m)\u001b[0m\u001b[1;33m.\u001b[0m\u001b[0mlower\u001b[0m\u001b[1;33m(\u001b[0m\u001b[1;33m)\u001b[0m\u001b[1;33m.\u001b[0m\u001b[0msplit\u001b[0m\u001b[1;33m(\u001b[0m\u001b[1;34m'\\t'\u001b[0m\u001b[1;33m)\u001b[0m \u001b[1;32mfor\u001b[0m \u001b[0mx\u001b[0m \u001b[1;32min\u001b[0m \u001b[0mopen\u001b[0m\u001b[1;33m(\u001b[0m\u001b[0mf\u001b[0m\u001b[1;33m,\u001b[0m \u001b[1;34m'r'\u001b[0m\u001b[1;33m,\u001b[0m \u001b[0mencoding\u001b[0m\u001b[1;33m=\u001b[0m\u001b[1;34m'utf8'\u001b[0m\u001b[1;33m)\u001b[0m\u001b[1;33m.\u001b[0m\u001b[0mreadlines\u001b[0m\u001b[1;33m(\u001b[0m\u001b[1;33m)\u001b[0m\u001b[1;33m[\u001b[0m\u001b[1;36m1\u001b[0m\u001b[1;33m:\u001b[0m\u001b[1;33m]\u001b[0m\u001b[1;33m]\u001b[0m\u001b[1;33m\u001b[0m\u001b[1;33m\u001b[0m\u001b[0m\n\u001b[0m\u001b[0;32m     20\u001b[0m     \u001b[0msents\u001b[0m \u001b[1;33m=\u001b[0m \u001b[1;33m[\u001b[0m\u001b[1;33m[\u001b[0m\u001b[0mx\u001b[0m\u001b[1;33m[\u001b[0m\u001b[1;36m3\u001b[0m\u001b[1;33m]\u001b[0m\u001b[1;33m.\u001b[0m\u001b[0msplit\u001b[0m\u001b[1;33m(\u001b[0m\u001b[1;33m)\u001b[0m\u001b[1;33m,\u001b[0m \u001b[0mx\u001b[0m\u001b[1;33m[\u001b[0m\u001b[1;36m4\u001b[0m\u001b[1;33m]\u001b[0m\u001b[1;33m.\u001b[0m\u001b[0msplit\u001b[0m\u001b[1;33m(\u001b[0m\u001b[1;33m)\u001b[0m\u001b[1;33m]\u001b[0m \u001b[1;32mfor\u001b[0m \u001b[0mx\u001b[0m \u001b[1;32min\u001b[0m \u001b[0mlines\u001b[0m\u001b[1;33m]\u001b[0m\u001b[1;33m\u001b[0m\u001b[1;33m\u001b[0m\u001b[0m\n\u001b[0;32m     21\u001b[0m     \u001b[0mlabels\u001b[0m \u001b[1;33m=\u001b[0m \u001b[1;33m[\u001b[0m\u001b[0mint\u001b[0m\u001b[1;33m(\u001b[0m\u001b[0mx\u001b[0m\u001b[1;33m[\u001b[0m\u001b[1;36m0\u001b[0m\u001b[1;33m]\u001b[0m\u001b[1;33m)\u001b[0m \u001b[1;32mfor\u001b[0m \u001b[0mx\u001b[0m \u001b[1;32min\u001b[0m \u001b[0mlines\u001b[0m\u001b[1;33m]\u001b[0m\u001b[1;33m\u001b[0m\u001b[1;33m\u001b[0m\u001b[0m\n",
      "\u001b[1;31mUnicodeDecodeError\u001b[0m: 'gbk' codec can't decode byte 0x9d in position 576: illegal multibyte sequence"
     ]
    }
   ],
   "source": [
    "for win in [2,5,10]:\n",
    "    for dim in [50,100,300]:\n",
    "        path = f\"svd_{dim}_{win}.txt\"\n",
    "        ws,bats,msr = evaluate(path)\n",
    "        row = {\"Algorithm\":\"SVD\", \"Win.\":win, \"Dim.\":dim, \"N. s.\":\"-\", \"WordSim\":ws[0]*100, \"BATS Male-Female\":np.round(bats[\"E10 [male - female]\"],2), \"BATS hypernym - misc\": np.round(bats[\"L02 [hypernyms - misc]\"],2) , \"BATS total\":np.round(bats[\"total\"],2), \"MSR\":msr}\n",
    "        table = table.append(pd.DataFrame(row,index=[0]), ignore_index = True)"
   ]
  },
  {
   "cell_type": "code",
   "execution_count": 38,
   "metadata": {},
   "outputs": [
    {
     "output_type": "execute_result",
     "data": {
      "text/plain": [
       "Empty DataFrame\n",
       "Columns: []\n",
       "Index: []"
      ],
      "text/html": "<div>\n<style scoped>\n    .dataframe tbody tr th:only-of-type {\n        vertical-align: middle;\n    }\n\n    .dataframe tbody tr th {\n        vertical-align: top;\n    }\n\n    .dataframe thead th {\n        text-align: right;\n    }\n</style>\n<table border=\"1\" class=\"dataframe\">\n  <thead>\n    <tr style=\"text-align: right;\">\n      <th></th>\n    </tr>\n  </thead>\n  <tbody>\n  </tbody>\n</table>\n</div>"
     },
     "metadata": {},
     "execution_count": 38
    }
   ],
   "source": [
    "table"
   ]
  },
  {
   "cell_type": "code",
   "execution_count": 78,
   "metadata": {},
   "outputs": [],
   "source": [
    "table.to_csv(\"svd_results.csv\")"
   ]
  },
  {
   "cell_type": "code",
   "execution_count": 31,
   "metadata": {},
   "outputs": [
    {
     "output_type": "error",
     "ename": "NameError",
     "evalue": "name 'msr' is not defined",
     "traceback": [
      "\u001b[1;31m---------------------------------------------------------------------------\u001b[0m",
      "\u001b[1;31mNameError\u001b[0m                                 Traceback (most recent call last)",
      "\u001b[1;32m<ipython-input-31-8c587e961e5d>\u001b[0m in \u001b[0;36m<module>\u001b[1;34m\u001b[0m\n\u001b[1;32m----> 1\u001b[1;33m \u001b[0mmsr\u001b[0m\u001b[1;33m\u001b[0m\u001b[1;33m\u001b[0m\u001b[0m\n\u001b[0m",
      "\u001b[1;31mNameError\u001b[0m: name 'msr' is not defined"
     ]
    }
   ],
   "source": [
    "msr"
   ]
  },
  {
   "cell_type": "code",
   "execution_count": null,
   "metadata": {},
   "outputs": [],
   "source": []
  }
 ],
 "metadata": {
  "kernelspec": {
   "display_name": "Python 3",
   "language": "python",
   "name": "python3"
  },
  "language_info": {
   "codemirror_mode": {
    "name": "ipython",
    "version": 3
   },
   "file_extension": ".py",
   "mimetype": "text/x-python",
   "name": "python",
   "nbconvert_exporter": "python",
   "pygments_lexer": "ipython3",
   "version": "3.8.5-final"
  }
 },
 "nbformat": 4,
 "nbformat_minor": 2
}