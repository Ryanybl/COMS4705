{
 "cells": [
  {
   "cell_type": "code",
   "execution_count": 1,
   "metadata": {},
   "outputs": [],
   "source": [
    "#!pip install transformers\n",
    "from sklearn.feature_extraction.text import CountVectorizer\n",
    "import numpy as np \n",
    "import scipy as sp \n",
    "from sklearn.decomposition import TruncatedSVD\n",
    "from sklearn.feature_selection import SelectKBest\n",
    "from scipy.sparse import lil_matrix\n",
    "import pandas as pd "
   ]
  },
  {
   "cell_type": "code",
   "execution_count": 2,
   "metadata": {},
   "outputs": [],
   "source": [
    "from evaluate import *\n",
    "from process import *"
   ]
  },
  {
   "cell_type": "code",
   "execution_count": 14,
   "metadata": {
    "tags": []
   },
   "outputs": [],
   "source": [
    "# f = open(\"data/brown.txt\")\n",
    "# vectorizer = CountVectorizer()\n",
    "# vectorizer.fit(f)\n",
    "# vocab = vectorizer.vocabulary_\n",
    "# tokenizer = vectorizer.build_tokenizer()"
   ]
  },
  {
   "cell_type": "code",
   "execution_count": 15,
   "metadata": {
    "tags": []
   },
   "outputs": [],
   "source": [
    "def file_to_words(filename):\n",
    "    with open (filename, \"r\") as myfile:\n",
    "        lines=myfile.readlines()\n",
    "        return lines\n",
    "# train_lines = file_to_words(\"data/brown.txt\")"
   ]
  },
  {
   "cell_type": "code",
   "execution_count": 16,
   "metadata": {},
   "outputs": [],
   "source": [
    "def cooc_matrix(train_lines, context_window, vocab, tokenizer):\n",
    "    if len(train_lines) == 0:\n",
    "        return []\n",
    "    r = len(vocab.keys())\n",
    "    D = lil_matrix((r,r))\n",
    "    for i in range(len(train_lines)):\n",
    "        line = tokenizer(train_lines[i])\n",
    "        print(f\"Generating cooc_matrix on line {i+1}: {round(i/len(train_lines)*100,1)} percent complete\", end=\"\\r\")\n",
    "        for j in range(len(line)):\n",
    "            word = line[j].lower()\n",
    "            word_index = vocab[word]\n",
    "            for k in range(1,context_window+1):\n",
    "                if j+k < len(line):\n",
    "                    context_index = vocab[line[j+k].lower()]\n",
    "                    if not context_index in D.rows[word_index]:\n",
    "                        D.rows[word_index].append(context_index)\n",
    "                        D.data[word_index].append(1)\n",
    "                    else:\n",
    "                        D.data[word_index][D.rows[word_index].index(context_index)] += 1\n",
    "                if j-k >= 0:\n",
    "                    context_index = vocab[line[j-k].lower()]\n",
    "                    if not context_index in D.rows[word_index]:\n",
    "                        D.rows[word_index].append(context_index)\n",
    "                        D.data[word_index].append(1)\n",
    "                    else:\n",
    "                        D.data[word_index][D.rows[word_index].index(context_index)] += 1\n",
    "    return D"
   ]
  },
  {
   "cell_type": "code",
   "execution_count": 17,
   "metadata": {
    "tags": []
   },
   "outputs": [],
   "source": [
    "# D = cooc_matrix(train_lines,2,vocab, tokenizer)"
   ]
  },
  {
   "cell_type": "code",
   "execution_count": 18,
   "metadata": {},
   "outputs": [],
   "source": [
    "# D_sum = D.sum(1).A\n",
    "# nD = D.sum()"
   ]
  },
  {
   "cell_type": "code",
   "execution_count": 19,
   "metadata": {},
   "outputs": [],
   "source": [
    "def D_to_M(D,D_sum,nD):\n",
    "    n = len(D_sum)\n",
    "    print(\"creating PMI as lil_matrix\")\n",
    "    M = D.copy()\n",
    "    rows = M.rows\n",
    "    data = M.data\n",
    "    for i in range(len(rows)):\n",
    "        print(f\"Generating PMI: {round(i/len(rows)*100,1)} percent complete\", end=\"\\r\")\n",
    "        row = rows[i]\n",
    "        for j in range(len(row)):\n",
    "            # row[j] = index in the vocabulary dictionary for c, i = index for w\n",
    "            assert data[i][j] != 0\n",
    "            data[i][j] = np.log(data[i][j] * nD / D_sum[i][0] / D_sum[row[j]][0])\n",
    "            assert data[i][j] != 0\n",
    "    print(\"PMI created\")\n",
    "    return M\n",
    "    "
   ]
  },
  {
   "cell_type": "code",
   "execution_count": 20,
   "metadata": {
    "tags": []
   },
   "outputs": [],
   "source": [
    "# M = D_to_M(D,D_sum,nD)"
   ]
  },
  {
   "cell_type": "code",
   "execution_count": 21,
   "metadata": {},
   "outputs": [],
   "source": [
    "def M_to_svd(M,dimension):\n",
    "    svd = TruncatedSVD(n_components=dimension)\n",
    "    U = svd.fit_transform(M)\n",
    "    V = svd.components_\n",
    "    S = svd.singular_values_ \n",
    "    return U,S,V"
   ]
  },
  {
   "cell_type": "code",
   "execution_count": 22,
   "metadata": {},
   "outputs": [],
   "source": [
    "# u,s_diag,vt = M_to_svd(M,50)\n",
    "# s = np.zeros((len(s_diag),len(s_diag)))\n",
    "# np.fill_diagonal(s,s_diag)\n",
    "# print(u.shape,s.shape,vt.shape)"
   ]
  },
  {
   "cell_type": "code",
   "execution_count": 23,
   "metadata": {},
   "outputs": [],
   "source": [
    "# W = np.matmul(u,np.sqrt(s))\n",
    "# print(W.shape)"
   ]
  },
  {
   "cell_type": "code",
   "execution_count": 143,
   "metadata": {},
   "outputs": [],
   "source": []
  },
  {
   "cell_type": "code",
   "execution_count": 24,
   "metadata": {},
   "outputs": [],
   "source": [
    "def write_results(vocab,W,filename):\n",
    "    embedding = {}\n",
    "    for word in vocab.keys():\n",
    "        embedding[word] = W[vocab[word]]\n",
    "    f = open(filename,\"w\", encoding='utf8')\n",
    "    for key, value in embedding.items():\n",
    "        if not np.any(value):\n",
    "            continue\n",
    "        values = \"\"\n",
    "        for i in range(len(value)):\n",
    "            values += f\"{value[i]} \"\n",
    "        values = values.strip()\n",
    "        f.write(\"{0} {1}\\n\".format(str(key), values))\n",
    "    print(f.name)\n",
    "    f.close()"
   ]
  },
  {
   "cell_type": "code",
   "execution_count": 25,
   "metadata": {},
   "outputs": [],
   "source": [
    "# tokenizer(\"S. J. Perelman\")"
   ]
  },
  {
   "cell_type": "code",
   "execution_count": 26,
   "metadata": {},
   "outputs": [],
   "source": [
    "train_path = \"data/brown.txt\"\n",
    "def generate_all_embeddings(train_path):\n",
    "    f = open(train_path)\n",
    "    vectorizer = CountVectorizer()\n",
    "    vectorizer.fit(f)\n",
    "    vocab = vectorizer.vocabulary_\n",
    "    tokenizer = vectorizer.build_tokenizer()\n",
    "    train_lines = file_to_words(train_path)\n",
    "    for context_window in [2,5,10]:\n",
    "        D = cooc_matrix(train_lines,context_window,vocab, tokenizer)\n",
    "        D_sum = D.sum(1).A\n",
    "        nD = D.sum()\n",
    "        M = D_to_M(D,D_sum,nD)\n",
    "\n",
    "        for dimension in [50,100,300]:\n",
    "            u,s_diag,vt = M_to_svd(M,dimension)\n",
    "            s = np.zeros((len(s_diag),len(s_diag)))\n",
    "            np.fill_diagonal(s,s_diag)\n",
    "            W = np.matmul(u,np.sqrt(s))\n",
    "            filename = f\"svd_{dimension}_{context_window}.txt\"\n",
    "            write_results(vocab,W,filename)"
   ]
  },
  {
   "cell_type": "code",
   "execution_count": 27,
   "metadata": {},
   "outputs": [
    {
     "output_type": "stream",
     "name": "stdout",
     "text": [
      "creating PMI as lil_matrix\n",
      "PMI created\n",
      "svd_50_2.txt\n",
      "svd_100_2.txt\n",
      "svd_300_2.txt\n",
      "creating PMI as lil_matrix\n",
      "PMI created\n",
      "svd_50_5.txt\n",
      "svd_100_5.txt\n",
      "svd_300_5.txt\n",
      "creating PMI as lil_matrix\n",
      "PMI created\n",
      "svd_50_10.txt\n",
      "svd_100_10.txt\n",
      "svd_300_10.txt\n"
     ]
    }
   ],
   "source": [
    "generate_all_embeddings(train_path)"
   ]
  },
  {
   "cell_type": "code",
   "execution_count": 5,
   "metadata": {},
   "outputs": [],
   "source": [
    "path = \"svd_50_2.txt\"\n",
    "def evaluate(path):\n",
    "    print('[evaluate] Loading model...')\n",
    "    model = load_model(path)\n",
    "\n",
    "    print('[evaluate] Collecting matrix...')\n",
    "    matrix, vocab, indices = collect(model)\n",
    "\n",
    "    print('[evaluate] WordSim353 correlation:')\n",
    "    ws = eval_wordsim(model)\n",
    "    print(ws)\n",
    "\n",
    "    print('[evaluate] BATS accuracies:')\n",
    "    bats = eval_bats(model, matrix, vocab, indices)\n",
    "    print(bats)\n",
    "\n",
    "    print('[evaluate] MSR accuracy:')\n",
    "    msr = eval_msr(model)\n",
    "    print(msr)\n",
    "    return ws,bats,msr"
   ]
  },
  {
   "cell_type": "code",
   "execution_count": 3,
   "metadata": {},
   "outputs": [],
   "source": [
    "table = pd.DataFrame()"
   ]
  },
  {
   "cell_type": "code",
   "execution_count": 6,
   "metadata": {},
   "outputs": [
    {
     "output_type": "stream",
     "name": "stdout",
     "text": [
      "[evaluate] Loading model...\n",
      "[evaluate] Collecting matrix...\n",
      "[evaluate] WordSim353 correlation:\n",
      "SpearmanrResult(correlation=0.07384088022317557, pvalue=0.18490281768438876)\n",
      "[evaluate] BATS accuracies:\n",
      "{'inflectional_morphology': 0.012244897959183673, 'I01 [noun - plural_reg]': 0.04081632653061224, 'I02 [noun - plural_irreg]': 0.0, 'I03 [adj - comparative]': 0.0, 'I04 [adj - superlative]': 0.0, 'I05 [verb_inf - 3pSg]': 0.0, 'I06 [verb_inf - Ving]': 0.0, 'I07 [verb_inf - Ved]': 0.02040816326530612, 'I08 [verb_Ving - 3pSg]': 0.0, 'I09 [verb_Ving - Ved]': 0.0, 'I10 [verb_3pSg - Ved]': 0.061224489795918366, 'derivational_morphology': 0.0, 'D01 [noun+less_reg]': 0.0, 'D02 [un+adj_reg]': 0.0, 'D03 [adj+ly_reg]': 0.0, 'D04 [over+adj_reg]': 0.0, 'D05 [adj+ness_reg]': 0.0, 'D06 [re+verb_reg]': 0.0, 'D07 [verb+able_reg]': 0.0, 'D08 [verb+er_irreg]': 0.0, 'D09 [verb+tion_irreg]': 0.0, 'D10 [verb+ment_irreg]': 0.0, 'encyclopedic_semantics': 0.0471441961797639, 'E01 [country - capital]': 0.037037037037037035, 'E02 [country - language]': 0.0, 'E03 [UK_city - county]': 0.0, 'E04 [name - nationality]': 0.05, 'E05 [name - occupation]': 0.0, 'E06 [animal - young]': 0.0, 'E07 [animal - sound]': 0.0, 'E08 [animal - shelter]': 0.0, 'E09 [things - color]': 0.32558139534883723, 'E10 [male - female]': 0.058823529411764705, 'lexicographic_semantics': 0.02575268853342008, 'L01 [hypernyms - animals]': 0.029411764705882353, 'L02 [hypernyms - misc]': 0.0, 'L03 [hyponyms - misc]': 0.02127659574468085, 'L04 [meronyms - substance]': 0.0, 'L05 [meronyms - member]': 0.0, 'L06 [meronyms - part]': 0.07894736842105263, 'L07 [synonyms - intensity]': 0.0, 'L08 [synonyms - exact]': 0.02040816326530612, 'L09 [antonyms - gradable]': 0.04081632653061224, 'L10 [antonyms - binary]': 0.06666666666666667, 'total': 0.021285445668091915}\n",
      "[evaluate] MSR accuracy:\n",
      "0.6527536231884058\n",
      "[evaluate] Loading model...\n",
      "[evaluate] Collecting matrix...\n",
      "[evaluate] WordSim353 correlation:\n",
      "SpearmanrResult(correlation=0.05791510594374738, pvalue=0.29865805083706304)\n",
      "[evaluate] BATS accuracies:\n",
      "{'inflectional_morphology': 0.036489795918367346, 'I01 [noun - plural_reg]': 0.10204081632653061, 'I02 [noun - plural_irreg]': 0.0, 'I03 [adj - comparative]': 0.0, 'I04 [adj - superlative]': 0.0, 'I05 [verb_inf - 3pSg]': 0.1, 'I06 [verb_inf - Ving]': 0.02, 'I07 [verb_inf - Ved]': 0.10204081632653061, 'I08 [verb_Ving - 3pSg]': 0.0, 'I09 [verb_Ving - Ved]': 0.0, 'I10 [verb_3pSg - Ved]': 0.04081632653061224, 'derivational_morphology': 0.002173913043478261, 'D01 [noun+less_reg]': 0.0, 'D02 [un+adj_reg]': 0.021739130434782608, 'D03 [adj+ly_reg]': 0.0, 'D04 [over+adj_reg]': 0.0, 'D05 [adj+ness_reg]': 0.0, 'D06 [re+verb_reg]': 0.0, 'D07 [verb+able_reg]': 0.0, 'D08 [verb+er_irreg]': 0.0, 'D09 [verb+tion_irreg]': 0.0, 'D10 [verb+ment_irreg]': 0.0, 'encyclopedic_semantics': 0.06207986812295978, 'E01 [country - capital]': 0.037037037037037035, 'E02 [country - language]': 0.0, 'E03 [UK_city - county]': 0.0, 'E04 [name - nationality]': 0.075, 'E05 [name - occupation]': 0.023809523809523808, 'E06 [animal - young]': 0.0, 'E07 [animal - sound]': 0.0, 'E08 [animal - shelter]': 0.0, 'E09 [things - color]': 0.27906976744186046, 'E10 [male - female]': 0.20588235294117646, 'lexicographic_semantics': 0.06377821246937483, 'L01 [hypernyms - animals]': 0.058823529411764705, 'L02 [hypernyms - misc]': 0.08108108108108109, 'L03 [hyponyms - misc]': 0.0425531914893617, 'L04 [meronyms - substance]': 0.020833333333333332, 'L05 [meronyms - member]': 0.0, 'L06 [meronyms - part]': 0.05263157894736842, 'L07 [synonyms - intensity]': 0.022222222222222223, 'L08 [synonyms - exact]': 0.0, 'L09 [antonyms - gradable]': 0.20408163265306123, 'L10 [antonyms - binary]': 0.15555555555555556, 'total': 0.04113044738854505}\n",
      "[evaluate] MSR accuracy:\n",
      "0.6446376811594203\n",
      "[evaluate] Loading model...\n",
      "[evaluate] Collecting matrix...\n",
      "[evaluate] WordSim353 correlation:\n",
      "SpearmanrResult(correlation=0.11904982001686142, pvalue=0.0321742790694485)\n",
      "[evaluate] BATS accuracies:\n",
      "{'inflectional_morphology': 0.03040816326530612, 'I01 [noun - plural_reg]': 0.12244897959183673, 'I02 [noun - plural_irreg]': 0.0, 'I03 [adj - comparative]': 0.0, 'I04 [adj - superlative]': 0.0, 'I05 [verb_inf - 3pSg]': 0.06, 'I06 [verb_inf - Ving]': 0.04, 'I07 [verb_inf - Ved]': 0.04081632653061224, 'I08 [verb_Ving - 3pSg]': 0.0, 'I09 [verb_Ving - Ved]': 0.0, 'I10 [verb_3pSg - Ved]': 0.04081632653061224, 'derivational_morphology': 0.004347826086956522, 'D01 [noun+less_reg]': 0.0, 'D02 [un+adj_reg]': 0.043478260869565216, 'D03 [adj+ly_reg]': 0.0, 'D04 [over+adj_reg]': 0.0, 'D05 [adj+ness_reg]': 0.0, 'D06 [re+verb_reg]': 0.0, 'D07 [verb+able_reg]': 0.0, 'D08 [verb+er_irreg]': 0.0, 'D09 [verb+tion_irreg]': 0.0, 'D10 [verb+ment_irreg]': 0.0, 'encyclopedic_semantics': 0.03488734817394188, 'E01 [country - capital]': 0.0, 'E02 [country - language]': 0.030303030303030304, 'E03 [UK_city - county]': 0.0, 'E04 [name - nationality]': 0.125, 'E05 [name - occupation]': 0.0, 'E06 [animal - young]': 0.0, 'E07 [animal - sound]': 0.0, 'E08 [animal - shelter]': 0.0, 'E09 [things - color]': 0.046511627906976744, 'E10 [male - female]': 0.14705882352941177, 'lexicographic_semantics': 0.04018702815205963, 'L01 [hypernyms - animals]': 0.11764705882352941, 'L02 [hypernyms - misc]': 0.0, 'L03 [hyponyms - misc]': 0.06382978723404255, 'L04 [meronyms - substance]': 0.0, 'L05 [meronyms - member]': 0.02127659574468085, 'L06 [meronyms - part]': 0.05263157894736842, 'L07 [synonyms - intensity]': 0.022222222222222223, 'L08 [synonyms - exact]': 0.04081632653061224, 'L09 [antonyms - gradable]': 0.061224489795918366, 'L10 [antonyms - binary]': 0.022222222222222223, 'total': 0.027457591419566038}\n",
      "[evaluate] MSR accuracy:\n",
      "0.6463768115942029\n",
      "[evaluate] Loading model...\n",
      "[evaluate] Collecting matrix...\n",
      "[evaluate] WordSim353 correlation:\n",
      "SpearmanrResult(correlation=0.17285478979984342, pvalue=0.001790780613512278)\n",
      "[evaluate] BATS accuracies:\n",
      "{'inflectional_morphology': 0.018244897959183676, 'I01 [noun - plural_reg]': 0.061224489795918366, 'I02 [noun - plural_irreg]': 0.0, 'I03 [adj - comparative]': 0.0, 'I04 [adj - superlative]': 0.0, 'I05 [verb_inf - 3pSg]': 0.0, 'I06 [verb_inf - Ving]': 0.04, 'I07 [verb_inf - Ved]': 0.061224489795918366, 'I08 [verb_Ving - 3pSg]': 0.02, 'I09 [verb_Ving - Ved]': 0.0, 'I10 [verb_3pSg - Ved]': 0.0, 'derivational_morphology': 0.0029411764705882353, 'D01 [noun+less_reg]': 0.0, 'D02 [un+adj_reg]': 0.0, 'D03 [adj+ly_reg]': 0.0, 'D04 [over+adj_reg]': 0.0, 'D05 [adj+ness_reg]': 0.0, 'D06 [re+verb_reg]': 0.0, 'D07 [verb+able_reg]': 0.0, 'D08 [verb+er_irreg]': 0.029411764705882353, 'D09 [verb+tion_irreg]': 0.0, 'D10 [verb+ment_irreg]': 0.0, 'encyclopedic_semantics': 0.06797260764771025, 'E01 [country - capital]': 0.0, 'E02 [country - language]': 0.0, 'E03 [UK_city - county]': 0.0, 'E04 [name - nationality]': 0.225, 'E05 [name - occupation]': 0.023809523809523808, 'E06 [animal - young]': 0.0, 'E07 [animal - sound]': 0.0, 'E08 [animal - shelter]': 0.0, 'E09 [things - color]': 0.37209302325581395, 'E10 [male - female]': 0.058823529411764705, 'lexicographic_semantics': 0.039762524139423834, 'L01 [hypernyms - animals]': 0.0, 'L02 [hypernyms - misc]': 0.05405405405405406, 'L03 [hyponyms - misc]': 0.10638297872340426, 'L04 [meronyms - substance]': 0.0, 'L05 [meronyms - member]': 0.0, 'L06 [meronyms - part]': 0.0, 'L07 [synonyms - intensity]': 0.0, 'L08 [synonyms - exact]': 0.02040816326530612, 'L09 [antonyms - gradable]': 0.061224489795918366, 'L10 [antonyms - binary]': 0.15555555555555556, 'total': 0.0322303015542265}\n",
      "[evaluate] MSR accuracy:\n",
      "0.6620289855072464\n",
      "[evaluate] Loading model...\n",
      "[evaluate] Collecting matrix...\n",
      "[evaluate] WordSim353 correlation:\n",
      "SpearmanrResult(correlation=0.15730036288691565, pvalue=0.004537545131899535)\n",
      "[evaluate] BATS accuracies:\n",
      "{'inflectional_morphology': 0.02036734693877551, 'I01 [noun - plural_reg]': 0.10204081632653061, 'I02 [noun - plural_irreg]': 0.0, 'I03 [adj - comparative]': 0.0, 'I04 [adj - superlative]': 0.0, 'I05 [verb_inf - 3pSg]': 0.0, 'I06 [verb_inf - Ving]': 0.0, 'I07 [verb_inf - Ved]': 0.08163265306122448, 'I08 [verb_Ving - 3pSg]': 0.02, 'I09 [verb_Ving - Ved]': 0.0, 'I10 [verb_3pSg - Ved]': 0.0, 'derivational_morphology': 0.0, 'D01 [noun+less_reg]': 0.0, 'D02 [un+adj_reg]': 0.0, 'D03 [adj+ly_reg]': 0.0, 'D04 [over+adj_reg]': 0.0, 'D05 [adj+ness_reg]': 0.0, 'D06 [re+verb_reg]': 0.0, 'D07 [verb+able_reg]': 0.0, 'D08 [verb+er_irreg]': 0.0, 'D09 [verb+tion_irreg]': 0.0, 'D10 [verb+ment_irreg]': 0.0, 'encyclopedic_semantics': 0.046984316160102756, 'E01 [country - capital]': 0.037037037037037035, 'E02 [country - language]': 0.030303030303030304, 'E03 [UK_city - county]': 0.0, 'E04 [name - nationality]': 0.075, 'E05 [name - occupation]': 0.023809523809523808, 'E06 [animal - young]': 0.0, 'E07 [animal - sound]': 0.0, 'E08 [animal - shelter]': 0.0, 'E09 [things - color]': 0.18604651162790697, 'E10 [male - female]': 0.11764705882352941, 'lexicographic_semantics': 0.05968556682582438, 'L01 [hypernyms - animals]': 0.0, 'L02 [hypernyms - misc]': 0.08108108108108109, 'L03 [hyponyms - misc]': 0.1702127659574468, 'L04 [meronyms - substance]': 0.020833333333333332, 'L05 [meronyms - member]': 0.0, 'L06 [meronyms - part]': 0.02631578947368421, 'L07 [synonyms - intensity]': 0.0, 'L08 [synonyms - exact]': 0.0, 'L09 [antonyms - gradable]': 0.14285714285714285, 'L10 [antonyms - binary]': 0.15555555555555556, 'total': 0.031759307481175655}\n",
      "[evaluate] MSR accuracy:\n",
      "0.6631884057971015\n",
      "[evaluate] Loading model...\n",
      "[evaluate] Collecting matrix...\n",
      "[evaluate] WordSim353 correlation:\n",
      "SpearmanrResult(correlation=0.15339865756392715, pvalue=0.005659234590336564)\n",
      "[evaluate] BATS accuracies:\n",
      "{'inflectional_morphology': 0.024534013605442176, 'I01 [noun - plural_reg]': 0.1836734693877551, 'I02 [noun - plural_irreg]': 0.041666666666666664, 'I03 [adj - comparative]': 0.0, 'I04 [adj - superlative]': 0.0, 'I05 [verb_inf - 3pSg]': 0.0, 'I06 [verb_inf - Ving]': 0.02, 'I07 [verb_inf - Ved]': 0.0, 'I08 [verb_Ving - 3pSg]': 0.0, 'I09 [verb_Ving - Ved]': 0.0, 'I10 [verb_3pSg - Ved]': 0.0, 'derivational_morphology': 0.0, 'D01 [noun+less_reg]': 0.0, 'D02 [un+adj_reg]': 0.0, 'D03 [adj+ly_reg]': 0.0, 'D04 [over+adj_reg]': 0.0, 'D05 [adj+ness_reg]': 0.0, 'D06 [re+verb_reg]': 0.0, 'D07 [verb+able_reg]': 0.0, 'D08 [verb+er_irreg]': 0.0, 'D09 [verb+tion_irreg]': 0.0, 'D10 [verb+ment_irreg]': 0.0, 'encyclopedic_semantics': 0.06091369199782333, 'E01 [country - capital]': 0.14814814814814814, 'E02 [country - language]': 0.06060606060606061, 'E03 [UK_city - county]': 0.0, 'E04 [name - nationality]': 0.025, 'E05 [name - occupation]': 0.023809523809523808, 'E06 [animal - young]': 0.0, 'E07 [animal - sound]': 0.0, 'E08 [animal - shelter]': 0.029411764705882353, 'E09 [things - color]': 0.11627906976744186, 'E10 [male - female]': 0.20588235294117646, 'lexicographic_semantics': 0.04089847391899064, 'L01 [hypernyms - animals]': 0.0, 'L02 [hypernyms - misc]': 0.02702702702702703, 'L03 [hyponyms - misc]': 0.10638297872340426, 'L04 [meronyms - substance]': 0.0625, 'L05 [meronyms - member]': 0.0425531914893617, 'L06 [meronyms - part]': 0.0, 'L07 [synonyms - intensity]': 0.0, 'L08 [synonyms - exact]': 0.02040816326530612, 'L09 [antonyms - gradable]': 0.061224489795918366, 'L10 [antonyms - binary]': 0.08888888888888889, 'total': 0.03158654488056403}\n",
      "[evaluate] MSR accuracy:\n",
      "0.6521739130434783\n",
      "[evaluate] Loading model...\n",
      "[evaluate] Collecting matrix...\n",
      "[evaluate] WordSim353 correlation:\n",
      "SpearmanrResult(correlation=0.2106182589982075, pvalue=0.00013377333360401825)\n",
      "[evaluate] BATS accuracies:\n",
      "{'inflectional_morphology': 0.014204081632653059, 'I01 [noun - plural_reg]': 0.08163265306122448, 'I02 [noun - plural_irreg]': 0.0, 'I03 [adj - comparative]': 0.0, 'I04 [adj - superlative]': 0.0, 'I05 [verb_inf - 3pSg]': 0.0, 'I06 [verb_inf - Ving]': 0.02, 'I07 [verb_inf - Ved]': 0.02040816326530612, 'I08 [verb_Ving - 3pSg]': 0.0, 'I09 [verb_Ving - Ved]': 0.02, 'I10 [verb_3pSg - Ved]': 0.0, 'derivational_morphology': 0.0023809523809523807, 'D01 [noun+less_reg]': 0.0, 'D02 [un+adj_reg]': 0.0, 'D03 [adj+ly_reg]': 0.0, 'D04 [over+adj_reg]': 0.0, 'D05 [adj+ness_reg]': 0.0, 'D06 [re+verb_reg]': 0.0, 'D07 [verb+able_reg]': 0.0, 'D08 [verb+er_irreg]': 0.0, 'D09 [verb+tion_irreg]': 0.0, 'D10 [verb+ment_irreg]': 0.023809523809523808, 'encyclopedic_semantics': 0.04310862846430562, 'E01 [country - capital]': 0.037037037037037035, 'E02 [country - language]': 0.0, 'E03 [UK_city - county]': 0.0, 'E04 [name - nationality]': 0.05, 'E05 [name - occupation]': 0.0, 'E06 [animal - young]': 0.0, 'E07 [animal - sound]': 0.0, 'E08 [animal - shelter]': 0.0, 'E09 [things - color]': 0.2558139534883721, 'E10 [male - female]': 0.08823529411764706, 'lexicographic_semantics': 0.04308961844273841, 'L01 [hypernyms - animals]': 0.029411764705882353, 'L02 [hypernyms - misc]': 0.08108108108108109, 'L03 [hyponyms - misc]': 0.10638297872340426, 'L04 [meronyms - substance]': 0.0, 'L05 [meronyms - member]': 0.02127659574468085, 'L06 [meronyms - part]': 0.0, 'L07 [synonyms - intensity]': 0.0, 'L08 [synonyms - exact]': 0.0, 'L09 [antonyms - gradable]': 0.08163265306122448, 'L10 [antonyms - binary]': 0.1111111111111111, 'total': 0.02569582023016237}\n",
      "[evaluate] MSR accuracy:\n",
      "0.664927536231884\n",
      "[evaluate] Loading model...\n",
      "[evaluate] Collecting matrix...\n",
      "[evaluate] WordSim353 correlation:\n",
      "SpearmanrResult(correlation=0.20127318344208903, pvalue=0.00026604381419796587)\n",
      "[evaluate] BATS accuracies:\n",
      "{'inflectional_morphology': 0.020369047619047616, 'I01 [noun - plural_reg]': 0.14285714285714285, 'I02 [noun - plural_irreg]': 0.020833333333333332, 'I03 [adj - comparative]': 0.0, 'I04 [adj - superlative]': 0.0, 'I05 [verb_inf - 3pSg]': 0.02, 'I06 [verb_inf - Ving]': 0.0, 'I07 [verb_inf - Ved]': 0.0, 'I08 [verb_Ving - 3pSg]': 0.0, 'I09 [verb_Ving - Ved]': 0.02, 'I10 [verb_3pSg - Ved]': 0.0, 'derivational_morphology': 0.0023809523809523807, 'D01 [noun+less_reg]': 0.0, 'D02 [un+adj_reg]': 0.0, 'D03 [adj+ly_reg]': 0.0, 'D04 [over+adj_reg]': 0.0, 'D05 [adj+ness_reg]': 0.0, 'D06 [re+verb_reg]': 0.0, 'D07 [verb+able_reg]': 0.0, 'D08 [verb+er_irreg]': 0.0, 'D09 [verb+tion_irreg]': 0.0, 'D10 [verb+ment_irreg]': 0.023809523809523808, 'encyclopedic_semantics': 0.050948508602407364, 'E01 [country - capital]': 0.037037037037037035, 'E02 [country - language]': 0.0, 'E03 [UK_city - county]': 0.0, 'E04 [name - nationality]': 0.05, 'E05 [name - occupation]': 0.047619047619047616, 'E06 [animal - young]': 0.0, 'E07 [animal - sound]': 0.0, 'E08 [animal - shelter]': 0.029411764705882353, 'E09 [things - color]': 0.13953488372093023, 'E10 [male - female]': 0.20588235294117646, 'lexicographic_semantics': 0.028921045088434776, 'L01 [hypernyms - animals]': 0.029411764705882353, 'L02 [hypernyms - misc]': 0.0, 'L03 [hyponyms - misc]': 0.0425531914893617, 'L04 [meronyms - substance]': 0.0, 'L05 [meronyms - member]': 0.0, 'L06 [meronyms - part]': 0.02631578947368421, 'L07 [synonyms - intensity]': 0.0, 'L08 [synonyms - exact]': 0.0, 'L09 [antonyms - gradable]': 0.10204081632653061, 'L10 [antonyms - binary]': 0.08888888888888889, 'total': 0.02565488842271053}\n",
      "[evaluate] MSR accuracy:\n",
      "0.6660869565217391\n",
      "[evaluate] Loading model...\n",
      "[evaluate] Collecting matrix...\n",
      "[evaluate] WordSim353 correlation:\n",
      "SpearmanrResult(correlation=0.16399343608645384, pvalue=0.00307098393887498)\n",
      "[evaluate] BATS accuracies:\n",
      "{'inflectional_morphology': 0.028658163265306125, 'I01 [noun - plural_reg]': 0.14285714285714285, 'I02 [noun - plural_irreg]': 0.0625, 'I03 [adj - comparative]': 0.0, 'I04 [adj - superlative]': 0.0, 'I05 [verb_inf - 3pSg]': 0.02, 'I06 [verb_inf - Ving]': 0.0, 'I07 [verb_inf - Ved]': 0.061224489795918366, 'I08 [verb_Ving - 3pSg]': 0.0, 'I09 [verb_Ving - Ved]': 0.0, 'I10 [verb_3pSg - Ved]': 0.0, 'derivational_morphology': 0.0022222222222222222, 'D01 [noun+less_reg]': 0.0, 'D02 [un+adj_reg]': 0.0, 'D03 [adj+ly_reg]': 0.022222222222222223, 'D04 [over+adj_reg]': 0.0, 'D05 [adj+ness_reg]': 0.0, 'D06 [re+verb_reg]': 0.0, 'D07 [verb+able_reg]': 0.0, 'D08 [verb+er_irreg]': 0.0, 'D09 [verb+tion_irreg]': 0.0, 'D10 [verb+ment_irreg]': 0.0, 'encyclopedic_semantics': 0.027408963585434175, 'E01 [country - capital]': 0.0, 'E02 [country - language]': 0.0, 'E03 [UK_city - county]': 0.0, 'E04 [name - nationality]': 0.05, 'E05 [name - occupation]': 0.047619047619047616, 'E06 [animal - young]': 0.0, 'E07 [animal - sound]': 0.0, 'E08 [animal - shelter]': 0.0, 'E09 [things - color]': 0.0, 'E10 [male - female]': 0.17647058823529413, 'lexicographic_semantics': 0.057697128991321914, 'L01 [hypernyms - animals]': 0.0, 'L02 [hypernyms - misc]': 0.02702702702702703, 'L03 [hyponyms - misc]': 0.06382978723404255, 'L04 [meronyms - substance]': 0.0, 'L05 [meronyms - member]': 0.0425531914893617, 'L06 [meronyms - part]': 0.05263157894736842, 'L07 [synonyms - intensity]': 0.0, 'L08 [synonyms - exact]': 0.0, 'L09 [antonyms - gradable]': 0.10204081632653061, 'L10 [antonyms - binary]': 0.28888888888888886, 'total': 0.02899661951607111}\n",
      "[evaluate] MSR accuracy:\n",
      "0.662608695652174\n"
     ]
    }
   ],
   "source": [
    "for win in [2,5,10]:\n",
    "    for dim in [50,100,300]:\n",
    "        path = f\"svd_{dim}_{win}.txt\"\n",
    "        ws,bats,msr = evaluate(path)\n",
    "        row = {\"Algorithm\":\"SVD\", \"Win.\":win, \"Dim.\":dim, \"N. s.\":\"-\", \"WordSim\":ws[0]*100, \"BATS Male-Female\":np.round(bats[\"E10 [male - female]\"],2), \"BATS hypernym - misc\": np.round(bats[\"L02 [hypernyms - misc]\"],2) , \"BATS total\":np.round(bats[\"total\"],2), \"MSR\":msr}\n",
    "        table = table.append(pd.DataFrame(row,index=[0]), ignore_index = True)"
   ]
  },
  {
   "cell_type": "code",
   "execution_count": null,
   "metadata": {},
   "outputs": [],
   "source": []
  },
  {
   "cell_type": "code",
   "execution_count": 7,
   "metadata": {},
   "outputs": [
    {
     "output_type": "execute_result",
     "data": {
      "text/plain": [
       "  Algorithm  Win.  Dim. N. s.    WordSim  BATS Male-Female  \\\n",
       "0       SVD     2    50     -   7.384088              0.06   \n",
       "1       SVD     2   100     -   5.791511              0.21   \n",
       "2       SVD     2   300     -  11.904982              0.15   \n",
       "3       SVD     5    50     -  17.285479              0.06   \n",
       "4       SVD     5   100     -  15.730036              0.12   \n",
       "5       SVD     5   300     -  15.339866              0.21   \n",
       "6       SVD    10    50     -  21.061826              0.09   \n",
       "7       SVD    10   100     -  20.127318              0.21   \n",
       "8       SVD    10   300     -  16.399344              0.18   \n",
       "\n",
       "   BATS hypernym - misc  BATS total       MSR  \n",
       "0                  0.00        0.02  0.652754  \n",
       "1                  0.08        0.04  0.644638  \n",
       "2                  0.00        0.03  0.646377  \n",
       "3                  0.05        0.03  0.662029  \n",
       "4                  0.08        0.03  0.663188  \n",
       "5                  0.03        0.03  0.652174  \n",
       "6                  0.08        0.03  0.664928  \n",
       "7                  0.00        0.03  0.666087  \n",
       "8                  0.03        0.03  0.662609  "
      ],
      "text/html": "<div>\n<style scoped>\n    .dataframe tbody tr th:only-of-type {\n        vertical-align: middle;\n    }\n\n    .dataframe tbody tr th {\n        vertical-align: top;\n    }\n\n    .dataframe thead th {\n        text-align: right;\n    }\n</style>\n<table border=\"1\" class=\"dataframe\">\n  <thead>\n    <tr style=\"text-align: right;\">\n      <th></th>\n      <th>Algorithm</th>\n      <th>Win.</th>\n      <th>Dim.</th>\n      <th>N. s.</th>\n      <th>WordSim</th>\n      <th>BATS Male-Female</th>\n      <th>BATS hypernym - misc</th>\n      <th>BATS total</th>\n      <th>MSR</th>\n    </tr>\n  </thead>\n  <tbody>\n    <tr>\n      <th>0</th>\n      <td>SVD</td>\n      <td>2</td>\n      <td>50</td>\n      <td>-</td>\n      <td>7.384088</td>\n      <td>0.06</td>\n      <td>0.00</td>\n      <td>0.02</td>\n      <td>0.652754</td>\n    </tr>\n    <tr>\n      <th>1</th>\n      <td>SVD</td>\n      <td>2</td>\n      <td>100</td>\n      <td>-</td>\n      <td>5.791511</td>\n      <td>0.21</td>\n      <td>0.08</td>\n      <td>0.04</td>\n      <td>0.644638</td>\n    </tr>\n    <tr>\n      <th>2</th>\n      <td>SVD</td>\n      <td>2</td>\n      <td>300</td>\n      <td>-</td>\n      <td>11.904982</td>\n      <td>0.15</td>\n      <td>0.00</td>\n      <td>0.03</td>\n      <td>0.646377</td>\n    </tr>\n    <tr>\n      <th>3</th>\n      <td>SVD</td>\n      <td>5</td>\n      <td>50</td>\n      <td>-</td>\n      <td>17.285479</td>\n      <td>0.06</td>\n      <td>0.05</td>\n      <td>0.03</td>\n      <td>0.662029</td>\n    </tr>\n    <tr>\n      <th>4</th>\n      <td>SVD</td>\n      <td>5</td>\n      <td>100</td>\n      <td>-</td>\n      <td>15.730036</td>\n      <td>0.12</td>\n      <td>0.08</td>\n      <td>0.03</td>\n      <td>0.663188</td>\n    </tr>\n    <tr>\n      <th>5</th>\n      <td>SVD</td>\n      <td>5</td>\n      <td>300</td>\n      <td>-</td>\n      <td>15.339866</td>\n      <td>0.21</td>\n      <td>0.03</td>\n      <td>0.03</td>\n      <td>0.652174</td>\n    </tr>\n    <tr>\n      <th>6</th>\n      <td>SVD</td>\n      <td>10</td>\n      <td>50</td>\n      <td>-</td>\n      <td>21.061826</td>\n      <td>0.09</td>\n      <td>0.08</td>\n      <td>0.03</td>\n      <td>0.664928</td>\n    </tr>\n    <tr>\n      <th>7</th>\n      <td>SVD</td>\n      <td>10</td>\n      <td>100</td>\n      <td>-</td>\n      <td>20.127318</td>\n      <td>0.21</td>\n      <td>0.00</td>\n      <td>0.03</td>\n      <td>0.666087</td>\n    </tr>\n    <tr>\n      <th>8</th>\n      <td>SVD</td>\n      <td>10</td>\n      <td>300</td>\n      <td>-</td>\n      <td>16.399344</td>\n      <td>0.18</td>\n      <td>0.03</td>\n      <td>0.03</td>\n      <td>0.662609</td>\n    </tr>\n  </tbody>\n</table>\n</div>"
     },
     "metadata": {},
     "execution_count": 7
    }
   ],
   "source": [
    "table"
   ]
  },
  {
   "cell_type": "code",
   "execution_count": 8,
   "metadata": {},
   "outputs": [],
   "source": [
    "table.to_csv(\"svd_results.csv\")"
   ]
  },
  {
   "cell_type": "code",
   "execution_count": 31,
   "metadata": {},
   "outputs": [
    {
     "output_type": "error",
     "ename": "NameError",
     "evalue": "name 'msr' is not defined",
     "traceback": [
      "\u001b[1;31m---------------------------------------------------------------------------\u001b[0m",
      "\u001b[1;31mNameError\u001b[0m                                 Traceback (most recent call last)",
      "\u001b[1;32m<ipython-input-31-8c587e961e5d>\u001b[0m in \u001b[0;36m<module>\u001b[1;34m\u001b[0m\n\u001b[1;32m----> 1\u001b[1;33m \u001b[0mmsr\u001b[0m\u001b[1;33m\u001b[0m\u001b[1;33m\u001b[0m\u001b[0m\n\u001b[0m",
      "\u001b[1;31mNameError\u001b[0m: name 'msr' is not defined"
     ]
    }
   ],
   "source": [
    "msr"
   ]
  },
  {
   "cell_type": "code",
   "execution_count": null,
   "metadata": {},
   "outputs": [],
   "source": []
  }
 ],
 "metadata": {
  "kernelspec": {
   "display_name": "Python 3",
   "language": "python",
   "name": "python3"
  },
  "language_info": {
   "codemirror_mode": {
    "name": "ipython",
    "version": 3
   },
   "file_extension": ".py",
   "mimetype": "text/x-python",
   "name": "python",
   "nbconvert_exporter": "python",
   "pygments_lexer": "ipython3",
   "version": "3.8.5-final"
  }
 },
 "nbformat": 4,
 "nbformat_minor": 2
}